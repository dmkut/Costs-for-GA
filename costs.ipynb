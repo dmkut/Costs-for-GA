{
 "cells": [
  {
   "attachments": {},
   "cell_type": "markdown",
   "id": "5b2a90f2",
   "metadata": {},
   "source": [
    "# Алгоритм для поиска ближайшей статьи затрат\n",
    "\n",
    "**Задача: Придумать алгоритм, который при вводе произвольной статьи затрат будет находить ближайшую к ней статью с бо́льшим номером**"
   ]
  },
  {
   "cell_type": "markdown",
   "id": "d79d388b",
   "metadata": {},
   "source": [
    "В качестве дополнительного задания напишем простую программу для обработки нашего запроса."
   ]
  },
  {
   "cell_type": "code",
   "execution_count": 21,
   "id": "e2ac6140",
   "metadata": {},
   "outputs": [],
   "source": [
    "import pandas as pd\n",
    "import re\n",
    "import numpy as np"
   ]
  },
  {
   "cell_type": "code",
   "execution_count": 22,
   "id": "ad026abb",
   "metadata": {},
   "outputs": [],
   "source": [
    "data = pd.read_excel('~/work/greenatom/costs.xlsx', sheet_name='Лист1', header=0)"
   ]
  },
  {
   "cell_type": "code",
   "execution_count": 23,
   "id": "9718327a",
   "metadata": {},
   "outputs": [],
   "source": [
    "data.columns = ['cost_num', 'main', 'min', 'max']"
   ]
  },
  {
   "cell_type": "markdown",
   "id": "2a666b13",
   "metadata": {},
   "source": [
    "Ввиду отсутствия базы описанной в задаче, создадим небольшой датафрейм, таблицу импортируем из Exlel."
   ]
  },
  {
   "cell_type": "code",
   "execution_count": 24,
   "id": "a4af8184",
   "metadata": {},
   "outputs": [
    {
     "data": {
      "text/html": [
       "<div>\n",
       "<style scoped>\n",
       "    .dataframe tbody tr th:only-of-type {\n",
       "        vertical-align: middle;\n",
       "    }\n",
       "\n",
       "    .dataframe tbody tr th {\n",
       "        vertical-align: top;\n",
       "    }\n",
       "\n",
       "    .dataframe thead th {\n",
       "        text-align: right;\n",
       "    }\n",
       "</style>\n",
       "<table border=\"1\" class=\"dataframe\">\n",
       "  <thead>\n",
       "    <tr style=\"text-align: right;\">\n",
       "      <th></th>\n",
       "      <th>cost_num</th>\n",
       "      <th>main</th>\n",
       "      <th>min</th>\n",
       "      <th>max</th>\n",
       "    </tr>\n",
       "  </thead>\n",
       "  <tbody>\n",
       "    <tr>\n",
       "      <th>0</th>\n",
       "      <td>1.</td>\n",
       "      <td>0</td>\n",
       "      <td>Лист1!A3</td>\n",
       "      <td>Лист1!A8</td>\n",
       "    </tr>\n",
       "    <tr>\n",
       "      <th>1</th>\n",
       "      <td>1.1.</td>\n",
       "      <td>Лист1!A2</td>\n",
       "      <td>0</td>\n",
       "      <td>0</td>\n",
       "    </tr>\n",
       "    <tr>\n",
       "      <th>2</th>\n",
       "      <td>1.2.</td>\n",
       "      <td>Лист1!A2</td>\n",
       "      <td>Лист1!A5</td>\n",
       "      <td>Лист1!A7</td>\n",
       "    </tr>\n",
       "    <tr>\n",
       "      <th>3</th>\n",
       "      <td>1.2.1.</td>\n",
       "      <td>Лист1!A4</td>\n",
       "      <td>0</td>\n",
       "      <td>0</td>\n",
       "    </tr>\n",
       "    <tr>\n",
       "      <th>4</th>\n",
       "      <td>1.2.2.</td>\n",
       "      <td>Лист1!A4</td>\n",
       "      <td>0</td>\n",
       "      <td>0</td>\n",
       "    </tr>\n",
       "    <tr>\n",
       "      <th>5</th>\n",
       "      <td>1.2.3.</td>\n",
       "      <td>Лист1!A4</td>\n",
       "      <td>0</td>\n",
       "      <td>0</td>\n",
       "    </tr>\n",
       "    <tr>\n",
       "      <th>6</th>\n",
       "      <td>1.3.</td>\n",
       "      <td>Лист1!A2</td>\n",
       "      <td>Лист1!A9</td>\n",
       "      <td>Лист1!A10</td>\n",
       "    </tr>\n",
       "    <tr>\n",
       "      <th>7</th>\n",
       "      <td>1.3.1.</td>\n",
       "      <td>Лист1!A8</td>\n",
       "      <td>0</td>\n",
       "      <td>0</td>\n",
       "    </tr>\n",
       "    <tr>\n",
       "      <th>8</th>\n",
       "      <td>1.3.2.</td>\n",
       "      <td>Лист1!A8</td>\n",
       "      <td>0</td>\n",
       "      <td>0</td>\n",
       "    </tr>\n",
       "    <tr>\n",
       "      <th>9</th>\n",
       "      <td>2.</td>\n",
       "      <td>0</td>\n",
       "      <td>Лист1!A12</td>\n",
       "      <td>Лист1!A15</td>\n",
       "    </tr>\n",
       "    <tr>\n",
       "      <th>10</th>\n",
       "      <td>2.1.</td>\n",
       "      <td>Лист1!A11</td>\n",
       "      <td>Лист1!A13</td>\n",
       "      <td>Лист1!A14</td>\n",
       "    </tr>\n",
       "    <tr>\n",
       "      <th>11</th>\n",
       "      <td>2.1.1.</td>\n",
       "      <td>Лист1!A12</td>\n",
       "      <td>0</td>\n",
       "      <td>0</td>\n",
       "    </tr>\n",
       "    <tr>\n",
       "      <th>12</th>\n",
       "      <td>2.1.2.</td>\n",
       "      <td>Лист1!A12</td>\n",
       "      <td>0</td>\n",
       "      <td>0</td>\n",
       "    </tr>\n",
       "    <tr>\n",
       "      <th>13</th>\n",
       "      <td>2.2.</td>\n",
       "      <td>Лист1!A11</td>\n",
       "      <td>Лист1!A16</td>\n",
       "      <td>Лист1!A19</td>\n",
       "    </tr>\n",
       "    <tr>\n",
       "      <th>14</th>\n",
       "      <td>2.2.1.</td>\n",
       "      <td>Лист1!A15</td>\n",
       "      <td>0</td>\n",
       "      <td>0</td>\n",
       "    </tr>\n",
       "    <tr>\n",
       "      <th>15</th>\n",
       "      <td>2.2.2.</td>\n",
       "      <td>Лист1!A15</td>\n",
       "      <td>0</td>\n",
       "      <td>0</td>\n",
       "    </tr>\n",
       "    <tr>\n",
       "      <th>16</th>\n",
       "      <td>2.2.3.</td>\n",
       "      <td>Лист1!A15</td>\n",
       "      <td>0</td>\n",
       "      <td>0</td>\n",
       "    </tr>\n",
       "    <tr>\n",
       "      <th>17</th>\n",
       "      <td>2.2.4.</td>\n",
       "      <td>Лист1!A15</td>\n",
       "      <td>0</td>\n",
       "      <td>0</td>\n",
       "    </tr>\n",
       "    <tr>\n",
       "      <th>18</th>\n",
       "      <td>3.</td>\n",
       "      <td>0</td>\n",
       "      <td>Лист1!A21</td>\n",
       "      <td>Лист1!A27</td>\n",
       "    </tr>\n",
       "    <tr>\n",
       "      <th>19</th>\n",
       "      <td>3.1.</td>\n",
       "      <td>Лист1!A20</td>\n",
       "      <td>Лист1!A22</td>\n",
       "      <td>Лист1!A24</td>\n",
       "    </tr>\n",
       "    <tr>\n",
       "      <th>20</th>\n",
       "      <td>3.1.1.</td>\n",
       "      <td>Лист1!A21</td>\n",
       "      <td>0</td>\n",
       "      <td>0</td>\n",
       "    </tr>\n",
       "    <tr>\n",
       "      <th>21</th>\n",
       "      <td>3.1.2.</td>\n",
       "      <td>Лист1!A21</td>\n",
       "      <td>0</td>\n",
       "      <td>0</td>\n",
       "    </tr>\n",
       "    <tr>\n",
       "      <th>22</th>\n",
       "      <td>3.1.3.</td>\n",
       "      <td>Лист1!A21</td>\n",
       "      <td>0</td>\n",
       "      <td>0</td>\n",
       "    </tr>\n",
       "    <tr>\n",
       "      <th>23</th>\n",
       "      <td>3.2.</td>\n",
       "      <td>Лист1!A20</td>\n",
       "      <td>0</td>\n",
       "      <td>0</td>\n",
       "    </tr>\n",
       "    <tr>\n",
       "      <th>24</th>\n",
       "      <td>3.3.</td>\n",
       "      <td>Лист1!A20</td>\n",
       "      <td>0</td>\n",
       "      <td>0</td>\n",
       "    </tr>\n",
       "    <tr>\n",
       "      <th>25</th>\n",
       "      <td>3.4.</td>\n",
       "      <td>Лист1!A20</td>\n",
       "      <td>Лист1!A28</td>\n",
       "      <td>Лист1!A29</td>\n",
       "    </tr>\n",
       "    <tr>\n",
       "      <th>26</th>\n",
       "      <td>3.4.1.</td>\n",
       "      <td>Лист1!A27</td>\n",
       "      <td>0</td>\n",
       "      <td>0</td>\n",
       "    </tr>\n",
       "    <tr>\n",
       "      <th>27</th>\n",
       "      <td>3.4.2.</td>\n",
       "      <td>Лист1!A27</td>\n",
       "      <td>0</td>\n",
       "      <td>0</td>\n",
       "    </tr>\n",
       "    <tr>\n",
       "      <th>28</th>\n",
       "      <td>4.</td>\n",
       "      <td>0</td>\n",
       "      <td>Лист1!A31</td>\n",
       "      <td>Лист1!A31</td>\n",
       "    </tr>\n",
       "    <tr>\n",
       "      <th>29</th>\n",
       "      <td>4.1.</td>\n",
       "      <td>Лист1!A30</td>\n",
       "      <td>Лист1!A32</td>\n",
       "      <td>Лист1!A32</td>\n",
       "    </tr>\n",
       "    <tr>\n",
       "      <th>30</th>\n",
       "      <td>4.1.1.</td>\n",
       "      <td>Лист1!A31</td>\n",
       "      <td>0</td>\n",
       "      <td>0</td>\n",
       "    </tr>\n",
       "  </tbody>\n",
       "</table>\n",
       "</div>"
      ],
      "text/plain": [
       "   cost_num       main        min        max\n",
       "0        1.          0   Лист1!A3   Лист1!A8\n",
       "1      1.1.   Лист1!A2          0          0\n",
       "2      1.2.   Лист1!A2   Лист1!A5   Лист1!A7\n",
       "3    1.2.1.   Лист1!A4          0          0\n",
       "4    1.2.2.   Лист1!A4          0          0\n",
       "5    1.2.3.   Лист1!A4          0          0\n",
       "6      1.3.   Лист1!A2   Лист1!A9  Лист1!A10\n",
       "7    1.3.1.   Лист1!A8          0          0\n",
       "8    1.3.2.   Лист1!A8          0          0\n",
       "9        2.          0  Лист1!A12  Лист1!A15\n",
       "10     2.1.  Лист1!A11  Лист1!A13  Лист1!A14\n",
       "11   2.1.1.  Лист1!A12          0          0\n",
       "12   2.1.2.  Лист1!A12          0          0\n",
       "13     2.2.  Лист1!A11  Лист1!A16  Лист1!A19\n",
       "14   2.2.1.  Лист1!A15          0          0\n",
       "15   2.2.2.  Лист1!A15          0          0\n",
       "16   2.2.3.  Лист1!A15          0          0\n",
       "17   2.2.4.  Лист1!A15          0          0\n",
       "18       3.          0  Лист1!A21  Лист1!A27\n",
       "19     3.1.  Лист1!A20  Лист1!A22  Лист1!A24\n",
       "20   3.1.1.  Лист1!A21          0          0\n",
       "21   3.1.2.  Лист1!A21          0          0\n",
       "22   3.1.3.  Лист1!A21          0          0\n",
       "23     3.2.  Лист1!A20          0          0\n",
       "24     3.3.  Лист1!A20          0          0\n",
       "25     3.4.  Лист1!A20  Лист1!A28  Лист1!A29\n",
       "26   3.4.1.  Лист1!A27          0          0\n",
       "27   3.4.2.  Лист1!A27          0          0\n",
       "28       4.          0  Лист1!A31  Лист1!A31\n",
       "29     4.1.  Лист1!A30  Лист1!A32  Лист1!A32\n",
       "30   4.1.1.  Лист1!A31          0          0"
      ]
     },
     "execution_count": 24,
     "metadata": {},
     "output_type": "execute_result"
    }
   ],
   "source": [
    "data"
   ]
  },
  {
   "cell_type": "markdown",
   "id": "82ddcf1b",
   "metadata": {},
   "source": [
    "Адаптируем таблицу для наших нужд. Отсутствие ссылки на статью-родителя обозначим символом домашней дирректории '~'. Ссылки на ячейки Excel заменим индексом статьи затрат."
   ]
  },
  {
   "cell_type": "code",
   "execution_count": 25,
   "id": "4aaa13fb",
   "metadata": {},
   "outputs": [],
   "source": [
    "data = data.replace({'0':'~', 0:'~'})"
   ]
  },
  {
   "cell_type": "code",
   "execution_count": 26,
   "id": "f0fc02c5",
   "metadata": {},
   "outputs": [],
   "source": [
    "for j in data.loc[:,'main':'max']:\n",
    "    main = []\n",
    "    for i in data[j]:\n",
    "        if i == '~':\n",
    "            main.append('~')\n",
    "        else:\n",
    "            a = re.sub(r\"Лист\\d+\\!A\", '', str(i), count=0)\n",
    "            main.append(int(a) - 2)\n",
    "            \n",
    "    data[j] = main       "
   ]
  },
  {
   "cell_type": "code",
   "execution_count": 27,
   "id": "9a51f8f0",
   "metadata": {},
   "outputs": [
    {
     "data": {
      "text/html": [
       "<div>\n",
       "<style scoped>\n",
       "    .dataframe tbody tr th:only-of-type {\n",
       "        vertical-align: middle;\n",
       "    }\n",
       "\n",
       "    .dataframe tbody tr th {\n",
       "        vertical-align: top;\n",
       "    }\n",
       "\n",
       "    .dataframe thead th {\n",
       "        text-align: right;\n",
       "    }\n",
       "</style>\n",
       "<table border=\"1\" class=\"dataframe\">\n",
       "  <thead>\n",
       "    <tr style=\"text-align: right;\">\n",
       "      <th></th>\n",
       "      <th>cost_num</th>\n",
       "      <th>main</th>\n",
       "      <th>min</th>\n",
       "      <th>max</th>\n",
       "    </tr>\n",
       "  </thead>\n",
       "  <tbody>\n",
       "    <tr>\n",
       "      <th>0</th>\n",
       "      <td>1.</td>\n",
       "      <td>~</td>\n",
       "      <td>1</td>\n",
       "      <td>6</td>\n",
       "    </tr>\n",
       "    <tr>\n",
       "      <th>1</th>\n",
       "      <td>1.1.</td>\n",
       "      <td>0</td>\n",
       "      <td>~</td>\n",
       "      <td>~</td>\n",
       "    </tr>\n",
       "    <tr>\n",
       "      <th>2</th>\n",
       "      <td>1.2.</td>\n",
       "      <td>0</td>\n",
       "      <td>3</td>\n",
       "      <td>5</td>\n",
       "    </tr>\n",
       "    <tr>\n",
       "      <th>3</th>\n",
       "      <td>1.2.1.</td>\n",
       "      <td>2</td>\n",
       "      <td>~</td>\n",
       "      <td>~</td>\n",
       "    </tr>\n",
       "    <tr>\n",
       "      <th>4</th>\n",
       "      <td>1.2.2.</td>\n",
       "      <td>2</td>\n",
       "      <td>~</td>\n",
       "      <td>~</td>\n",
       "    </tr>\n",
       "  </tbody>\n",
       "</table>\n",
       "</div>"
      ],
      "text/plain": [
       "  cost_num main min max\n",
       "0       1.    ~   1   6\n",
       "1     1.1.    0   ~   ~\n",
       "2     1.2.    0   3   5\n",
       "3   1.2.1.    2   ~   ~\n",
       "4   1.2.2.    2   ~   ~"
      ]
     },
     "execution_count": 27,
     "metadata": {},
     "output_type": "execute_result"
    }
   ],
   "source": [
    "data.head()"
   ]
  },
  {
   "cell_type": "code",
   "execution_count": 28,
   "id": "ca370406",
   "metadata": {},
   "outputs": [],
   "source": [
    "# Нивелируем разницу переменных в столбце\n",
    "data['cost_num'] = data['cost_num'].astype('str')"
   ]
  },
  {
   "cell_type": "markdown",
   "id": "38a633a9",
   "metadata": {},
   "source": [
    "Номера статей были выгружены с точками, устраним их."
   ]
  },
  {
   "cell_type": "code",
   "execution_count": 29,
   "id": "98497175",
   "metadata": {},
   "outputs": [],
   "source": [
    "cost_num = []\n",
    "for i in data['cost_num']:\n",
    "\n",
    "    a = i.split('.')\n",
    "    del a[-1]\n",
    "    a = '.'.join(a)\n",
    "    cost_num.append(a)\n",
    "data['cost_num'] = cost_num"
   ]
  },
  {
   "cell_type": "markdown",
   "id": "4e9ead22",
   "metadata": {},
   "source": [
    "Предлагается использовать метод сортировки и выбрать ближайшую статью затрат по индексу следующим за указанным."
   ]
  },
  {
   "cell_type": "code",
   "execution_count": 30,
   "id": "545bcf24",
   "metadata": {},
   "outputs": [],
   "source": [
    "def find_cost(number):\n",
    "    num = data['cost_num'].sort_values(ascending=True).to_list()\n",
    "    if number == 'стоп':\n",
    "        return 'Хорошего', 'дня!'\n",
    "    elif number not in num:\n",
    "        return 'Стаья расходов', 'не найдена'\n",
    "    elif num.index(number) == len(num)-1:\n",
    "        return 'Это последняя статья:', number\n",
    "    elif number in num:\n",
    "        for i in range(len(num)):\n",
    "            if num[i] == number:\n",
    "                return 'Ближайшая статья:', num[i+1]\n",
    "    elif number == 'стоп':\n",
    "        return 'Хорошего', 'дня!'                "
   ]
  },
  {
   "cell_type": "markdown",
   "id": "a3b485e0",
   "metadata": {},
   "source": [
    "***Следующая ячейка выполняет поиск по таблице статей затрат***"
   ]
  },
  {
   "cell_type": "code",
   "execution_count": 31,
   "id": "ff825e48",
   "metadata": {},
   "outputs": [
    {
     "name": "stdout",
     "output_type": "stream",
     "text": [
      "Введите номер статьи в формате 1.1.1: 5\n",
      "Стаья расходов не найдена\n",
      "Введите номер статьи в формате 1.1.1: 1/1\n",
      "Стаья расходов не найдена\n",
      "Введите номер статьи в формате 1.1.1: 1.1\n",
      "Ближайшая статья: 1.2\n",
      "Введите номер статьи в формате 1.1.1: 1.3.2\n",
      "Ближайшая статья: 2\n",
      "Введите номер статьи в формате 1.1.1: стоп\n",
      "Хорошего дня!\n"
     ]
    }
   ],
   "source": [
    "while a != 'стоп':\n",
    "    a = input('Введите номер статьи в формате 1.1.1: ')\n",
    "    print(find_cost(a)[0], find_cost(a)[1])    "
   ]
  },
  {
   "cell_type": "markdown",
   "id": "fb45704a",
   "metadata": {},
   "source": [
    "# La fin!"
   ]
  }
 ],
 "metadata": {
  "ExecuteTimeLog": [
   {
    "duration": 372,
    "start_time": "2023-07-10T08:36:23.654Z"
   },
   {
    "duration": 64,
    "start_time": "2023-07-10T08:39:58.403Z"
   },
   {
    "duration": 2,
    "start_time": "2023-07-10T08:40:04.755Z"
   },
   {
    "duration": 65,
    "start_time": "2023-07-10T08:40:05.451Z"
   },
   {
    "duration": 165,
    "start_time": "2023-07-10T08:40:35.883Z"
   },
   {
    "duration": 277,
    "start_time": "2023-07-10T08:40:55.363Z"
   },
   {
    "duration": 62,
    "start_time": "2023-07-10T08:41:11.716Z"
   },
   {
    "duration": 51,
    "start_time": "2023-07-10T08:44:28.797Z"
   },
   {
    "duration": 16,
    "start_time": "2023-07-10T08:44:31.532Z"
   },
   {
    "duration": 3,
    "start_time": "2023-07-10T08:45:56.668Z"
   },
   {
    "duration": 11,
    "start_time": "2023-07-10T08:46:02.812Z"
   },
   {
    "duration": 3,
    "start_time": "2023-07-10T08:46:47.443Z"
   },
   {
    "duration": 5,
    "start_time": "2023-07-10T08:47:06.611Z"
   },
   {
    "duration": 73,
    "start_time": "2023-07-10T08:56:30.470Z"
   },
   {
    "duration": 64,
    "start_time": "2023-07-10T08:56:36.230Z"
   },
   {
    "duration": 10,
    "start_time": "2023-07-10T08:56:42.838Z"
   },
   {
    "duration": 11,
    "start_time": "2023-07-10T08:57:02.077Z"
   },
   {
    "duration": 9,
    "start_time": "2023-07-10T08:57:14.078Z"
   },
   {
    "duration": 4,
    "start_time": "2023-07-10T08:58:28.015Z"
   },
   {
    "duration": 84,
    "start_time": "2023-07-10T08:58:38.966Z"
   },
   {
    "duration": 5,
    "start_time": "2023-07-10T08:58:41.670Z"
   },
   {
    "duration": 5,
    "start_time": "2023-07-10T08:58:48.718Z"
   },
   {
    "duration": 4,
    "start_time": "2023-07-10T08:58:55.591Z"
   },
   {
    "duration": 5,
    "start_time": "2023-07-10T08:59:45.550Z"
   },
   {
    "duration": 4,
    "start_time": "2023-07-10T08:59:50.551Z"
   },
   {
    "duration": 7,
    "start_time": "2023-07-10T09:01:55.223Z"
   },
   {
    "duration": 8,
    "start_time": "2023-07-10T09:02:01.751Z"
   },
   {
    "duration": 4,
    "start_time": "2023-07-10T09:08:23.616Z"
   },
   {
    "duration": 5,
    "start_time": "2023-07-10T09:08:43.808Z"
   },
   {
    "duration": 10,
    "start_time": "2023-07-10T09:08:49.464Z"
   },
   {
    "duration": 8,
    "start_time": "2023-07-10T09:08:56.360Z"
   },
   {
    "duration": 4,
    "start_time": "2023-07-10T09:11:01.952Z"
   },
   {
    "duration": 4,
    "start_time": "2023-07-10T09:12:02.833Z"
   },
   {
    "duration": 10,
    "start_time": "2023-07-10T09:12:07.569Z"
   },
   {
    "duration": 78,
    "start_time": "2023-07-10T09:12:33.640Z"
   },
   {
    "duration": 3,
    "start_time": "2023-07-10T09:12:34.345Z"
   },
   {
    "duration": 11,
    "start_time": "2023-07-10T09:12:42.448Z"
   },
   {
    "duration": 3,
    "start_time": "2023-07-10T09:12:46.153Z"
   },
   {
    "duration": 4,
    "start_time": "2023-07-10T09:12:47.488Z"
   },
   {
    "duration": 13,
    "start_time": "2023-07-10T09:12:49.576Z"
   },
   {
    "duration": 10,
    "start_time": "2023-07-10T09:12:50.554Z"
   },
   {
    "duration": 11,
    "start_time": "2023-07-10T09:14:39.641Z"
   },
   {
    "duration": 90,
    "start_time": "2023-07-10T09:17:23.872Z"
   },
   {
    "duration": 5,
    "start_time": "2023-07-10T09:17:24.881Z"
   },
   {
    "duration": 16,
    "start_time": "2023-07-10T09:17:26.410Z"
   },
   {
    "duration": 3,
    "start_time": "2023-07-10T09:17:26.915Z"
   },
   {
    "duration": 4,
    "start_time": "2023-07-10T09:17:52.025Z"
   },
   {
    "duration": 11,
    "start_time": "2023-07-10T09:17:53.741Z"
   },
   {
    "duration": 11,
    "start_time": "2023-07-10T09:18:07.250Z"
   },
   {
    "duration": 9,
    "start_time": "2023-07-10T09:18:53.787Z"
   },
   {
    "duration": 15,
    "start_time": "2023-07-10T09:19:05.715Z"
   },
   {
    "duration": 6,
    "start_time": "2023-07-10T09:19:41.467Z"
   },
   {
    "duration": 5,
    "start_time": "2023-07-10T09:19:48.194Z"
   },
   {
    "duration": 11,
    "start_time": "2023-07-10T09:20:36.634Z"
   },
   {
    "duration": 38,
    "start_time": "2023-07-10T09:21:33.380Z"
   },
   {
    "duration": 20,
    "start_time": "2023-07-10T09:22:33.075Z"
   },
   {
    "duration": 11,
    "start_time": "2023-07-10T09:22:51.226Z"
   },
   {
    "duration": 11,
    "start_time": "2023-07-10T09:23:02.268Z"
   },
   {
    "duration": 8,
    "start_time": "2023-07-10T09:24:23.067Z"
   },
   {
    "duration": 5,
    "start_time": "2023-07-10T09:24:30.811Z"
   },
   {
    "duration": 22,
    "start_time": "2023-07-10T09:24:40.030Z"
   },
   {
    "duration": 99,
    "start_time": "2023-07-10T09:24:46.795Z"
   },
   {
    "duration": 4,
    "start_time": "2023-07-10T09:24:47.139Z"
   },
   {
    "duration": 16,
    "start_time": "2023-07-10T09:24:47.596Z"
   },
   {
    "duration": 2,
    "start_time": "2023-07-10T09:24:58.299Z"
   },
   {
    "duration": 5,
    "start_time": "2023-07-10T09:25:08.515Z"
   },
   {
    "duration": 21,
    "start_time": "2023-07-10T09:25:11.066Z"
   },
   {
    "duration": 11,
    "start_time": "2023-07-10T09:26:28.357Z"
   },
   {
    "duration": 10,
    "start_time": "2023-07-10T09:27:11.317Z"
   },
   {
    "duration": 10,
    "start_time": "2023-07-10T09:30:25.396Z"
   },
   {
    "duration": 4,
    "start_time": "2023-07-10T09:30:49.724Z"
   },
   {
    "duration": 4,
    "start_time": "2023-07-10T09:31:02.878Z"
   },
   {
    "duration": 348,
    "start_time": "2023-07-10T09:32:08.180Z"
   },
   {
    "duration": 9,
    "start_time": "2023-07-10T09:32:35.925Z"
   },
   {
    "duration": 7,
    "start_time": "2023-07-10T09:32:54.574Z"
   },
   {
    "duration": 10,
    "start_time": "2023-07-10T09:33:08.268Z"
   },
   {
    "duration": 411,
    "start_time": "2023-07-10T09:33:27.967Z"
   },
   {
    "duration": 312,
    "start_time": "2023-07-10T09:33:28.812Z"
   },
   {
    "duration": 3,
    "start_time": "2023-07-10T09:33:29.127Z"
   },
   {
    "duration": 17,
    "start_time": "2023-07-10T09:33:29.509Z"
   },
   {
    "duration": 3,
    "start_time": "2023-07-10T09:33:31.924Z"
   },
   {
    "duration": 5,
    "start_time": "2023-07-10T09:33:32.911Z"
   },
   {
    "duration": 81,
    "start_time": "2023-07-10T09:33:42.461Z"
   },
   {
    "duration": 10,
    "start_time": "2023-07-10T09:33:53.781Z"
   },
   {
    "duration": 10,
    "start_time": "2023-07-10T09:34:07.270Z"
   },
   {
    "duration": 8,
    "start_time": "2023-07-10T09:34:17.684Z"
   },
   {
    "duration": 60,
    "start_time": "2023-07-10T09:36:20.333Z"
   },
   {
    "duration": 10,
    "start_time": "2023-07-10T09:36:28.670Z"
   },
   {
    "duration": 5,
    "start_time": "2023-07-10T09:37:18.998Z"
   },
   {
    "duration": 4,
    "start_time": "2023-07-10T09:37:39.543Z"
   },
   {
    "duration": 11,
    "start_time": "2023-07-10T09:37:45.150Z"
   },
   {
    "duration": 10,
    "start_time": "2023-07-10T09:38:19.345Z"
   },
   {
    "duration": 12,
    "start_time": "2023-07-10T09:39:07.238Z"
   },
   {
    "duration": 118,
    "start_time": "2023-07-10T09:39:50.749Z"
   },
   {
    "duration": 3,
    "start_time": "2023-07-10T09:39:51.214Z"
   },
   {
    "duration": 11,
    "start_time": "2023-07-10T09:39:51.559Z"
   },
   {
    "duration": 2,
    "start_time": "2023-07-10T09:39:53.405Z"
   },
   {
    "duration": 8,
    "start_time": "2023-07-10T09:39:54.229Z"
   },
   {
    "duration": 11,
    "start_time": "2023-07-10T09:39:56.929Z"
   },
   {
    "duration": 60,
    "start_time": "2023-07-10T09:41:18.950Z"
   },
   {
    "duration": 4,
    "start_time": "2023-07-10T09:41:23.758Z"
   },
   {
    "duration": 8,
    "start_time": "2023-07-10T09:41:27.889Z"
   },
   {
    "duration": 2,
    "start_time": "2023-07-10T09:42:38.455Z"
   },
   {
    "duration": 58,
    "start_time": "2023-07-10T09:42:38.689Z"
   },
   {
    "duration": 4,
    "start_time": "2023-07-10T09:42:38.902Z"
   },
   {
    "duration": 10,
    "start_time": "2023-07-10T09:42:39.143Z"
   },
   {
    "duration": 3,
    "start_time": "2023-07-10T09:42:40.606Z"
   },
   {
    "duration": 4,
    "start_time": "2023-07-10T09:42:41.039Z"
   },
   {
    "duration": 6,
    "start_time": "2023-07-10T09:43:09.206Z"
   },
   {
    "duration": 11,
    "start_time": "2023-07-10T09:43:12.911Z"
   },
   {
    "duration": 3,
    "start_time": "2023-07-10T09:43:31.128Z"
   },
   {
    "duration": 122,
    "start_time": "2023-07-10T09:43:31.320Z"
   },
   {
    "duration": 3,
    "start_time": "2023-07-10T09:43:31.495Z"
   },
   {
    "duration": 12,
    "start_time": "2023-07-10T09:43:31.703Z"
   },
   {
    "duration": 7,
    "start_time": "2023-07-10T09:43:32.710Z"
   },
   {
    "duration": 7,
    "start_time": "2023-07-10T09:43:34.431Z"
   },
   {
    "duration": 5,
    "start_time": "2023-07-10T09:43:40.254Z"
   },
   {
    "duration": 16,
    "start_time": "2023-07-10T09:43:40.623Z"
   },
   {
    "duration": 3,
    "start_time": "2023-07-10T09:51:26.151Z"
   },
   {
    "duration": 75,
    "start_time": "2023-07-10T09:51:26.439Z"
   },
   {
    "duration": 3,
    "start_time": "2023-07-10T09:51:26.959Z"
   },
   {
    "duration": 11,
    "start_time": "2023-07-10T09:51:27.936Z"
   },
   {
    "duration": 3,
    "start_time": "2023-07-10T09:51:30.496Z"
   },
   {
    "duration": 4,
    "start_time": "2023-07-10T09:51:31.015Z"
   },
   {
    "duration": 6,
    "start_time": "2023-07-10T09:51:32.727Z"
   },
   {
    "duration": 11,
    "start_time": "2023-07-10T09:51:35.797Z"
   },
   {
    "duration": 68,
    "start_time": "2023-07-10T09:53:14.163Z"
   },
   {
    "duration": 3,
    "start_time": "2023-07-10T09:53:14.448Z"
   },
   {
    "duration": 11,
    "start_time": "2023-07-10T09:53:14.720Z"
   },
   {
    "duration": 3,
    "start_time": "2023-07-10T09:53:16.399Z"
   },
   {
    "duration": 4,
    "start_time": "2023-07-10T09:53:16.674Z"
   },
   {
    "duration": 6,
    "start_time": "2023-07-10T09:53:17.441Z"
   },
   {
    "duration": 10,
    "start_time": "2023-07-10T09:53:18.006Z"
   },
   {
    "duration": 11,
    "start_time": "2023-07-10T09:56:58.874Z"
   },
   {
    "duration": 14,
    "start_time": "2023-07-10T09:57:24.632Z"
   },
   {
    "duration": 288,
    "start_time": "2023-07-10T09:58:01.769Z"
   },
   {
    "duration": 5,
    "start_time": "2023-07-10T09:58:12.138Z"
   },
   {
    "duration": 4,
    "start_time": "2023-07-10T09:58:17.865Z"
   },
   {
    "duration": 6,
    "start_time": "2023-07-10T09:58:19.921Z"
   },
   {
    "duration": 3,
    "start_time": "2023-07-10T09:59:03.738Z"
   },
   {
    "duration": 6,
    "start_time": "2023-07-10T09:59:05.745Z"
   },
   {
    "duration": 6,
    "start_time": "2023-07-10T09:59:10.193Z"
   },
   {
    "duration": 6,
    "start_time": "2023-07-10T09:59:39.001Z"
   },
   {
    "duration": 68,
    "start_time": "2023-07-10T11:02:26.944Z"
   },
   {
    "duration": 3,
    "start_time": "2023-07-10T11:02:27.260Z"
   },
   {
    "duration": 15,
    "start_time": "2023-07-10T11:02:27.725Z"
   },
   {
    "duration": 3,
    "start_time": "2023-07-10T11:02:35.932Z"
   },
   {
    "duration": 4,
    "start_time": "2023-07-10T11:02:37.523Z"
   },
   {
    "duration": 5,
    "start_time": "2023-07-10T11:02:38.245Z"
   },
   {
    "duration": 11,
    "start_time": "2023-07-10T11:02:38.693Z"
   },
   {
    "duration": 7,
    "start_time": "2023-07-10T11:02:51.572Z"
   },
   {
    "duration": 18,
    "start_time": "2023-07-10T11:04:46.101Z"
   },
   {
    "duration": 18,
    "start_time": "2023-07-10T11:05:21.261Z"
   },
   {
    "duration": 8,
    "start_time": "2023-07-10T11:07:05.446Z"
   },
   {
    "duration": 17,
    "start_time": "2023-07-10T11:07:17.165Z"
   },
   {
    "duration": 3,
    "start_time": "2023-07-10T11:07:51.774Z"
   },
   {
    "duration": 17,
    "start_time": "2023-07-10T11:07:52.910Z"
   },
   {
    "duration": 19,
    "start_time": "2023-07-10T11:10:50.791Z"
   },
   {
    "duration": 15,
    "start_time": "2023-07-10T11:12:09.310Z"
   },
   {
    "duration": 28,
    "start_time": "2023-07-10T11:12:17.383Z"
   },
   {
    "duration": 33,
    "start_time": "2023-07-10T11:12:28.390Z"
   },
   {
    "duration": 19,
    "start_time": "2023-07-10T11:12:35.022Z"
   },
   {
    "duration": 29,
    "start_time": "2023-07-10T11:12:42.318Z"
   },
   {
    "duration": 9,
    "start_time": "2023-07-10T11:12:57.831Z"
   },
   {
    "duration": 8,
    "start_time": "2023-07-10T11:19:32.232Z"
   },
   {
    "duration": 17,
    "start_time": "2023-07-10T11:19:41.839Z"
   },
   {
    "duration": 20,
    "start_time": "2023-07-10T11:20:04.439Z"
   },
   {
    "duration": 8,
    "start_time": "2023-07-10T11:20:10.911Z"
   },
   {
    "duration": 67,
    "start_time": "2023-07-10T11:20:20.432Z"
   },
   {
    "duration": 22,
    "start_time": "2023-07-10T11:20:24.376Z"
   },
   {
    "duration": 20,
    "start_time": "2023-07-10T11:20:53.848Z"
   },
   {
    "duration": 64,
    "start_time": "2023-07-10T11:25:05.384Z"
   },
   {
    "duration": 65,
    "start_time": "2023-07-10T11:25:20.345Z"
   },
   {
    "duration": 3,
    "start_time": "2023-07-10T11:25:28.050Z"
   },
   {
    "duration": 4,
    "start_time": "2023-07-10T11:25:34.658Z"
   },
   {
    "duration": 4,
    "start_time": "2023-07-10T11:25:57.433Z"
   },
   {
    "duration": 4,
    "start_time": "2023-07-10T11:25:58.554Z"
   },
   {
    "duration": 3,
    "start_time": "2023-07-10T11:28:46.578Z"
   },
   {
    "duration": 4,
    "start_time": "2023-07-10T11:28:47.129Z"
   },
   {
    "duration": 3,
    "start_time": "2023-07-10T11:28:58.849Z"
   },
   {
    "duration": 4,
    "start_time": "2023-07-10T11:28:59.394Z"
   },
   {
    "duration": 3,
    "start_time": "2023-07-10T11:29:20.666Z"
   },
   {
    "duration": 4,
    "start_time": "2023-07-10T11:29:21.634Z"
   },
   {
    "duration": 4,
    "start_time": "2023-07-10T11:30:13.786Z"
   },
   {
    "duration": 7,
    "start_time": "2023-07-10T11:30:43.942Z"
   },
   {
    "duration": 8,
    "start_time": "2023-07-10T11:31:22.529Z"
   },
   {
    "duration": 6,
    "start_time": "2023-07-10T11:31:37.819Z"
   },
   {
    "duration": 7,
    "start_time": "2023-07-10T11:31:48.242Z"
   },
   {
    "duration": 7,
    "start_time": "2023-07-10T11:32:07.690Z"
   },
   {
    "duration": 7,
    "start_time": "2023-07-10T11:34:53.379Z"
   },
   {
    "duration": 7,
    "start_time": "2023-07-10T11:34:58.131Z"
   },
   {
    "duration": 8,
    "start_time": "2023-07-10T11:35:08.010Z"
   },
   {
    "duration": 8,
    "start_time": "2023-07-10T11:36:52.227Z"
   },
   {
    "duration": 7,
    "start_time": "2023-07-10T11:37:29.092Z"
   },
   {
    "duration": 9,
    "start_time": "2023-07-10T11:37:38.148Z"
   },
   {
    "duration": 4,
    "start_time": "2023-07-10T11:38:21.395Z"
   },
   {
    "duration": 4,
    "start_time": "2023-07-10T11:38:23.763Z"
   },
   {
    "duration": 13,
    "start_time": "2023-07-10T11:38:29.877Z"
   },
   {
    "duration": 77,
    "start_time": "2023-07-10T11:38:34.572Z"
   },
   {
    "duration": 3,
    "start_time": "2023-07-10T11:38:34.859Z"
   },
   {
    "duration": 12,
    "start_time": "2023-07-10T11:38:35.125Z"
   },
   {
    "duration": 3,
    "start_time": "2023-07-10T11:38:36.395Z"
   },
   {
    "duration": 7,
    "start_time": "2023-07-10T11:38:36.821Z"
   },
   {
    "duration": 11,
    "start_time": "2023-07-10T11:42:18.468Z"
   },
   {
    "duration": 6,
    "start_time": "2023-07-10T11:42:19.764Z"
   },
   {
    "duration": 11,
    "start_time": "2023-07-10T11:42:20.780Z"
   },
   {
    "duration": 109,
    "start_time": "2023-07-10T11:42:27.956Z"
   },
   {
    "duration": 4,
    "start_time": "2023-07-10T11:42:28.828Z"
   },
   {
    "duration": 4,
    "start_time": "2023-07-10T11:42:49.632Z"
   },
   {
    "duration": 4,
    "start_time": "2023-07-10T11:42:57.277Z"
   },
   {
    "duration": 15,
    "start_time": "2023-07-10T11:43:13.643Z"
   },
   {
    "duration": 82,
    "start_time": "2023-07-10T11:43:17.981Z"
   },
   {
    "duration": 3,
    "start_time": "2023-07-10T11:43:18.244Z"
   },
   {
    "duration": 10,
    "start_time": "2023-07-10T11:43:18.501Z"
   },
   {
    "duration": 2,
    "start_time": "2023-07-10T11:43:20.285Z"
   },
   {
    "duration": 4,
    "start_time": "2023-07-10T11:43:20.994Z"
   },
   {
    "duration": 5,
    "start_time": "2023-07-10T11:43:22.588Z"
   },
   {
    "duration": 10,
    "start_time": "2023-07-10T11:43:23.069Z"
   },
   {
    "duration": 4,
    "start_time": "2023-07-10T11:43:25.996Z"
   },
   {
    "duration": 4,
    "start_time": "2023-07-10T11:43:26.828Z"
   },
   {
    "duration": 15,
    "start_time": "2023-07-10T11:43:30.137Z"
   },
   {
    "duration": 6,
    "start_time": "2023-07-10T11:44:10.940Z"
   },
   {
    "duration": 5,
    "start_time": "2023-07-10T11:49:12.243Z"
   },
   {
    "duration": 10,
    "start_time": "2023-07-10T11:49:24.211Z"
   },
   {
    "duration": 5,
    "start_time": "2023-07-10T11:49:32.443Z"
   },
   {
    "duration": 6,
    "start_time": "2023-07-10T11:49:48.038Z"
   },
   {
    "duration": 6,
    "start_time": "2023-07-10T11:49:53.470Z"
   },
   {
    "duration": 4,
    "start_time": "2023-07-10T11:49:58.132Z"
   },
   {
    "duration": 10,
    "start_time": "2023-07-10T11:50:08.758Z"
   },
   {
    "duration": 8,
    "start_time": "2023-07-10T11:50:13.062Z"
   },
   {
    "duration": 9,
    "start_time": "2023-07-10T11:50:17.536Z"
   },
   {
    "duration": 12,
    "start_time": "2023-07-10T11:50:44.208Z"
   },
   {
    "duration": 6,
    "start_time": "2023-07-10T11:50:48.013Z"
   },
   {
    "duration": 7,
    "start_time": "2023-07-10T11:50:56.511Z"
   },
   {
    "duration": 6,
    "start_time": "2023-07-10T11:51:08.053Z"
   },
   {
    "duration": 68,
    "start_time": "2023-07-10T11:53:04.640Z"
   },
   {
    "duration": 62,
    "start_time": "2023-07-10T11:55:21.136Z"
   },
   {
    "duration": 4,
    "start_time": "2023-07-10T11:55:26.711Z"
   },
   {
    "duration": 12,
    "start_time": "2023-07-10T11:56:03.838Z"
   },
   {
    "duration": 3,
    "start_time": "2023-07-10T11:56:32.239Z"
   },
   {
    "duration": 14,
    "start_time": "2023-07-10T11:56:32.847Z"
   },
   {
    "duration": 4,
    "start_time": "2023-07-10T11:56:55.734Z"
   },
   {
    "duration": 5,
    "start_time": "2023-07-10T11:56:56.126Z"
   },
   {
    "duration": 4,
    "start_time": "2023-07-10T11:57:08.507Z"
   },
   {
    "duration": 4,
    "start_time": "2023-07-10T11:59:36.803Z"
   },
   {
    "duration": 5,
    "start_time": "2023-07-10T11:59:38.047Z"
   },
   {
    "duration": 6,
    "start_time": "2023-07-10T11:59:42.811Z"
   },
   {
    "duration": 5,
    "start_time": "2023-07-10T12:00:02.151Z"
   },
   {
    "duration": 10,
    "start_time": "2023-07-10T12:00:07.335Z"
   },
   {
    "duration": 3,
    "start_time": "2023-07-10T12:02:05.824Z"
   },
   {
    "duration": 11,
    "start_time": "2023-07-10T12:02:06.935Z"
   },
   {
    "duration": 4,
    "start_time": "2023-07-10T12:02:25.195Z"
   },
   {
    "duration": 11,
    "start_time": "2023-07-10T12:02:25.840Z"
   },
   {
    "duration": 4,
    "start_time": "2023-07-10T12:02:35.107Z"
   },
   {
    "duration": 10,
    "start_time": "2023-07-10T12:02:46.895Z"
   },
   {
    "duration": 4,
    "start_time": "2023-07-10T12:03:10.303Z"
   },
   {
    "duration": 11,
    "start_time": "2023-07-10T12:03:10.822Z"
   },
   {
    "duration": 4,
    "start_time": "2023-07-10T12:04:21.891Z"
   },
   {
    "duration": 4,
    "start_time": "2023-07-10T12:04:42.990Z"
   },
   {
    "duration": 4,
    "start_time": "2023-07-10T12:04:59.902Z"
   },
   {
    "duration": 4,
    "start_time": "2023-07-10T12:05:00.235Z"
   },
   {
    "duration": 4,
    "start_time": "2023-07-10T12:05:11.995Z"
   },
   {
    "duration": 5,
    "start_time": "2023-07-10T12:05:12.616Z"
   },
   {
    "duration": 4,
    "start_time": "2023-07-10T12:05:40.520Z"
   },
   {
    "duration": 6,
    "start_time": "2023-07-10T13:50:58.815Z"
   },
   {
    "duration": 124,
    "start_time": "2023-07-10T13:50:59.413Z"
   },
   {
    "duration": 4,
    "start_time": "2023-07-10T13:51:00.163Z"
   },
   {
    "duration": 13,
    "start_time": "2023-07-10T13:51:00.432Z"
   },
   {
    "duration": 3,
    "start_time": "2023-07-10T13:51:02.976Z"
   },
   {
    "duration": 5,
    "start_time": "2023-07-10T13:51:03.424Z"
   },
   {
    "duration": 6,
    "start_time": "2023-07-10T13:51:04.040Z"
   },
   {
    "duration": 13,
    "start_time": "2023-07-10T13:51:04.443Z"
   },
   {
    "duration": 4,
    "start_time": "2023-07-10T13:51:06.631Z"
   },
   {
    "duration": 3,
    "start_time": "2023-07-10T13:51:08.736Z"
   },
   {
    "duration": 4,
    "start_time": "2023-07-10T13:51:14.269Z"
   },
   {
    "duration": 5,
    "start_time": "2023-07-10T13:51:17.803Z"
   },
   {
    "duration": 11765,
    "start_time": "2023-07-10T13:52:13.964Z"
   },
   {
    "duration": 3,
    "start_time": "2023-07-10T13:54:54.269Z"
   },
   {
    "duration": 5,
    "start_time": "2023-07-10T13:55:00.427Z"
   },
   {
    "duration": 4,
    "start_time": "2023-07-10T13:55:11.133Z"
   },
   {
    "duration": 3,
    "start_time": "2023-07-10T13:55:22.603Z"
   },
   {
    "duration": 4,
    "start_time": "2023-07-10T13:55:28.830Z"
   },
   {
    "duration": 5,
    "start_time": "2023-07-10T13:55:29.941Z"
   },
   {
    "duration": 3,
    "start_time": "2023-07-10T13:55:42.340Z"
   },
   {
    "duration": 3,
    "start_time": "2023-07-10T13:56:36.295Z"
   },
   {
    "duration": 4,
    "start_time": "2023-07-10T13:56:39.003Z"
   },
   {
    "duration": 3,
    "start_time": "2023-07-10T13:56:41.099Z"
   },
   {
    "duration": 3,
    "start_time": "2023-07-10T13:56:46.287Z"
   },
   {
    "duration": 3,
    "start_time": "2023-07-10T13:56:48.508Z"
   },
   {
    "duration": 5,
    "start_time": "2023-07-10T13:56:50.938Z"
   },
   {
    "duration": 25,
    "start_time": "2023-07-10T13:56:54.199Z"
   },
   {
    "duration": 6,
    "start_time": "2023-07-10T13:57:07.564Z"
   },
   {
    "duration": 5,
    "start_time": "2023-07-10T13:57:14.757Z"
   },
   {
    "duration": 3,
    "start_time": "2023-07-10T13:57:46.908Z"
   },
   {
    "duration": 2,
    "start_time": "2023-07-10T13:57:52.596Z"
   },
   {
    "duration": 2,
    "start_time": "2023-07-10T13:57:55.408Z"
   },
   {
    "duration": 3,
    "start_time": "2023-07-10T13:57:56.845Z"
   },
   {
    "duration": 3,
    "start_time": "2023-07-10T13:58:37.991Z"
   },
   {
    "duration": 2174,
    "start_time": "2023-07-10T13:58:53.939Z"
   },
   {
    "duration": 1487,
    "start_time": "2023-07-10T13:59:01.565Z"
   },
   {
    "duration": 9351,
    "start_time": "2023-07-10T13:59:18.261Z"
   },
   {
    "duration": 3,
    "start_time": "2023-07-10T13:59:30.007Z"
   },
   {
    "duration": 3,
    "start_time": "2023-07-10T13:59:33.031Z"
   },
   {
    "duration": 413,
    "start_time": "2023-07-10T14:01:14.243Z"
   },
   {
    "duration": 236,
    "start_time": "2023-07-10T14:01:14.657Z"
   },
   {
    "duration": 4,
    "start_time": "2023-07-10T14:01:14.894Z"
   },
   {
    "duration": 29,
    "start_time": "2023-07-10T14:01:14.900Z"
   },
   {
    "duration": 2,
    "start_time": "2023-07-10T14:01:14.932Z"
   },
   {
    "duration": 16,
    "start_time": "2023-07-10T14:01:14.936Z"
   },
   {
    "duration": 12,
    "start_time": "2023-07-10T14:01:14.954Z"
   },
   {
    "duration": 21,
    "start_time": "2023-07-10T14:01:14.967Z"
   },
   {
    "duration": 12,
    "start_time": "2023-07-10T14:01:14.990Z"
   },
   {
    "duration": 71,
    "start_time": "2023-07-10T14:01:15.004Z"
   },
   {
    "duration": 3,
    "start_time": "2023-07-10T14:01:17.059Z"
   },
   {
    "duration": 88,
    "start_time": "2023-07-10T14:01:36.440Z"
   },
   {
    "duration": 4202,
    "start_time": "2023-07-10T14:01:42.166Z"
   },
   {
    "duration": 1612,
    "start_time": "2023-07-10T14:01:54.824Z"
   },
   {
    "duration": 5,
    "start_time": "2023-07-10T14:02:07.758Z"
   },
   {
    "duration": 14,
    "start_time": "2023-07-10T14:02:12.108Z"
   },
   {
    "duration": 9,
    "start_time": "2023-07-10T14:03:29.825Z"
   },
   {
    "duration": 5,
    "start_time": "2023-07-10T14:03:43.758Z"
   },
   {
    "duration": 3126,
    "start_time": "2023-07-10T14:03:44.999Z"
   },
   {
    "duration": 4,
    "start_time": "2023-07-10T14:04:26.167Z"
   },
   {
    "duration": 0,
    "start_time": "2023-07-10T14:04:56.664Z"
   },
   {
    "duration": 0,
    "start_time": "2023-07-10T14:08:19.645Z"
   },
   {
    "duration": 0,
    "start_time": "2023-07-10T14:08:19.646Z"
   },
   {
    "duration": 0,
    "start_time": "2023-07-10T14:09:02.419Z"
   },
   {
    "duration": 0,
    "start_time": "2023-07-10T14:09:02.422Z"
   },
   {
    "duration": 25053,
    "start_time": "2023-07-10T14:09:03.107Z"
   },
   {
    "duration": 0,
    "start_time": "2023-07-10T14:09:28.166Z"
   },
   {
    "duration": 56566,
    "start_time": "2023-07-10T14:09:29.168Z"
   },
   {
    "duration": 0,
    "start_time": "2023-07-10T14:10:25.736Z"
   },
   {
    "duration": 4,
    "start_time": "2023-07-10T14:10:26.831Z"
   },
   {
    "duration": 109718,
    "start_time": "2023-07-10T14:10:27.792Z"
   },
   {
    "duration": 0,
    "start_time": "2023-07-10T14:12:17.512Z"
   },
   {
    "duration": 4,
    "start_time": "2023-07-10T14:12:18.798Z"
   },
   {
    "duration": 47633,
    "start_time": "2023-07-10T14:12:19.705Z"
   },
   {
    "duration": 5,
    "start_time": "2023-07-10T14:13:09.129Z"
   },
   {
    "duration": 25714,
    "start_time": "2023-07-10T14:13:09.737Z"
   },
   {
    "duration": 5,
    "start_time": "2023-07-10T14:13:37.028Z"
   },
   {
    "duration": 30778,
    "start_time": "2023-07-10T14:13:37.594Z"
   },
   {
    "duration": 0,
    "start_time": "2023-07-10T14:14:08.373Z"
   },
   {
    "duration": 5,
    "start_time": "2023-07-10T14:14:09.410Z"
   },
   {
    "duration": 3072,
    "start_time": "2023-07-10T14:14:09.953Z"
   },
   {
    "duration": 3,
    "start_time": "2023-07-10T14:15:10.265Z"
   },
   {
    "duration": 107519,
    "start_time": "2023-07-10T14:15:10.649Z"
   },
   {
    "duration": 0,
    "start_time": "2023-07-10T14:16:58.170Z"
   },
   {
    "duration": 5,
    "start_time": "2023-07-10T14:17:02.641Z"
   },
   {
    "duration": 27390,
    "start_time": "2023-07-10T14:17:03.601Z"
   },
   {
    "duration": 0,
    "start_time": "2023-07-10T14:17:30.992Z"
   },
   {
    "duration": 5,
    "start_time": "2023-07-10T14:17:32.241Z"
   },
   {
    "duration": 14611,
    "start_time": "2023-07-10T14:17:33.243Z"
   },
   {
    "duration": 0,
    "start_time": "2023-07-10T14:17:47.856Z"
   },
   {
    "duration": 8,
    "start_time": "2023-07-10T14:17:48.731Z"
   },
   {
    "duration": 11769,
    "start_time": "2023-07-10T14:17:56.954Z"
   },
   {
    "duration": 5,
    "start_time": "2023-07-10T14:18:09.441Z"
   },
   {
    "duration": 19283,
    "start_time": "2023-07-10T14:18:10.020Z"
   },
   {
    "duration": 0,
    "start_time": "2023-07-10T14:18:29.305Z"
   },
   {
    "duration": 73,
    "start_time": "2023-07-10T14:18:29.951Z"
   },
   {
    "duration": 7,
    "start_time": "2023-07-10T14:18:34.034Z"
   },
   {
    "duration": 0,
    "start_time": "2023-07-10T14:19:43.212Z"
   },
   {
    "duration": 0,
    "start_time": "2023-07-10T14:19:43.216Z"
   },
   {
    "duration": 4,
    "start_time": "2023-07-10T14:19:45.850Z"
   },
   {
    "duration": 46628,
    "start_time": "2023-07-10T14:20:01.929Z"
   },
   {
    "duration": 5,
    "start_time": "2023-07-10T14:20:49.698Z"
   },
   {
    "duration": 65545,
    "start_time": "2023-07-10T14:20:52.082Z"
   },
   {
    "duration": 4,
    "start_time": "2023-07-10T14:23:05.171Z"
   },
   {
    "duration": 6,
    "start_time": "2023-07-10T14:23:07.134Z"
   },
   {
    "duration": 4,
    "start_time": "2023-07-10T14:23:11.876Z"
   },
   {
    "duration": 8,
    "start_time": "2023-07-10T14:23:12.718Z"
   },
   {
    "duration": 4,
    "start_time": "2023-07-10T14:23:20.747Z"
   },
   {
    "duration": 7,
    "start_time": "2023-07-10T14:23:21.338Z"
   },
   {
    "duration": 4,
    "start_time": "2023-07-10T14:23:26.442Z"
   },
   {
    "duration": 4,
    "start_time": "2023-07-10T14:23:52.947Z"
   },
   {
    "duration": 73,
    "start_time": "2023-07-10T14:28:43.874Z"
   },
   {
    "duration": 421,
    "start_time": "2023-07-10T14:28:52.136Z"
   },
   {
    "duration": 271,
    "start_time": "2023-07-10T14:28:52.559Z"
   },
   {
    "duration": 7,
    "start_time": "2023-07-10T14:29:00.537Z"
   },
   {
    "duration": 21,
    "start_time": "2023-07-10T14:29:02.578Z"
   },
   {
    "duration": 5,
    "start_time": "2023-07-10T14:30:15.475Z"
   },
   {
    "duration": 12,
    "start_time": "2023-07-10T14:30:16.707Z"
   },
   {
    "duration": 10,
    "start_time": "2023-07-10T14:30:17.843Z"
   },
   {
    "duration": 9,
    "start_time": "2023-07-10T14:30:26.640Z"
   },
   {
    "duration": 4,
    "start_time": "2023-07-10T14:30:58.542Z"
   },
   {
    "duration": 4,
    "start_time": "2023-07-10T14:31:46.499Z"
   },
   {
    "duration": 69,
    "start_time": "2023-07-10T14:33:49.232Z"
   },
   {
    "duration": 408,
    "start_time": "2023-07-10T14:34:13.171Z"
   },
   {
    "duration": 408,
    "start_time": "2023-07-10T14:35:22.397Z"
   },
   {
    "duration": 120,
    "start_time": "2023-07-10T14:37:28.557Z"
   },
   {
    "duration": 97,
    "start_time": "2023-07-10T14:37:40.301Z"
   },
   {
    "duration": 4,
    "start_time": "2023-07-10T14:38:45.756Z"
   },
   {
    "duration": 49688,
    "start_time": "2023-07-10T14:38:47.452Z"
   },
   {
    "duration": 6,
    "start_time": "2023-07-10T14:41:55.605Z"
   },
   {
    "duration": 8,
    "start_time": "2023-07-10T14:41:56.612Z"
   },
   {
    "duration": 3,
    "start_time": "2023-07-10T14:42:25.886Z"
   },
   {
    "duration": 116,
    "start_time": "2023-07-10T14:42:25.891Z"
   },
   {
    "duration": 3,
    "start_time": "2023-07-10T14:42:26.009Z"
   },
   {
    "duration": 63,
    "start_time": "2023-07-10T14:42:26.023Z"
   },
   {
    "duration": 17,
    "start_time": "2023-07-10T14:42:26.088Z"
   },
   {
    "duration": 20,
    "start_time": "2023-07-10T14:42:26.107Z"
   },
   {
    "duration": 22,
    "start_time": "2023-07-10T14:42:26.136Z"
   },
   {
    "duration": 12,
    "start_time": "2023-07-10T14:42:26.160Z"
   },
   {
    "duration": 15,
    "start_time": "2023-07-10T14:42:26.174Z"
   },
   {
    "duration": 16,
    "start_time": "2023-07-10T14:42:26.190Z"
   },
   {
    "duration": 24949,
    "start_time": "2023-07-10T14:42:28.196Z"
   }
  ],
  "kernelspec": {
   "display_name": "Python 3 (ipykernel)",
   "language": "python",
   "name": "python3"
  },
  "language_info": {
   "codemirror_mode": {
    "name": "ipython",
    "version": 3
   },
   "file_extension": ".py",
   "mimetype": "text/x-python",
   "name": "python",
   "nbconvert_exporter": "python",
   "pygments_lexer": "ipython3",
   "version": "3.9.5"
  },
  "toc": {
   "base_numbering": 1,
   "nav_menu": {},
   "number_sections": true,
   "sideBar": true,
   "skip_h1_title": true,
   "title_cell": "Table of Contents",
   "title_sidebar": "Contents",
   "toc_cell": false,
   "toc_position": {},
   "toc_section_display": true,
   "toc_window_display": false
  }
 },
 "nbformat": 4,
 "nbformat_minor": 5
}
